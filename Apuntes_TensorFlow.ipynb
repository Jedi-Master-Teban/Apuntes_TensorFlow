{
 "cells": [
  {
   "cell_type": "markdown",
   "metadata": {},
   "source": [
    "# Tensor Flow\n",
    "\n",
    "Estos son los apuntes del tutorial de FreeCodeCamp impartido por Tim Ruscica, youtuber en el área de tecnología y programación. Además se incluirán apuntes del curso en TensorFlow en la plataforma de FreeCodeCamp."
   ]
  },
  {
   "cell_type": "markdown",
   "metadata": {},
   "source": [
    "## ¿Qué es TensorFlow?\n",
    "\n",
    "TensorFlow es una plataforma de código abierto de Google y mantenida por esta compañía, su función es la de crear y entrenar modelos de Machine Learning, es además una de las librerías de Machine Learning más grandes del mundo.\n",
    "\n",
    "En este tutorial exploraremos las capacidades de TensorFlow para: Clasificar imágenes, agrupación de datos (*data clustering*), regresiones, aprendizaje reforzado (*reinforcement learning*) y procesamiento natural del lenguaje (*natural language processing*).\n",
    "\n"
   ]
  },
  {
   "cell_type": "code",
   "execution_count": null,
   "metadata": {},
   "outputs": [],
   "source": []
  }
 ],
 "metadata": {
  "language_info": {
   "name": "python"
  }
 },
 "nbformat": 4,
 "nbformat_minor": 2
}
