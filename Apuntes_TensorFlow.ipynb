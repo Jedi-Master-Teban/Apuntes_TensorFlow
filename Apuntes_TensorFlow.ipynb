{
 "cells": [
  {
   "cell_type": "markdown",
   "metadata": {},
   "source": [
    "# Tensor Flow\n",
    "\n",
    "Estos son los apuntes del tutorial de FreeCodeCamp impartido por Tim Ruscica, youtuber en el área de tecnología y programación. Además se incluirán apuntes del curso en TensorFlow en la plataforma de FreeCodeCamp."
   ]
  },
  {
   "cell_type": "markdown",
   "metadata": {},
   "source": [
    "### ¿Qué es TensorFlow?\n",
    "\n",
    "TensorFlow es una plataforma de código abierto de Google y mantenida por esta compañía, su función es la de crear y entrenar modelos de Machine Learning, es además una de las librerías de Machine Learning más grandes del mundo.\n",
    "\n",
    "En este tutorial exploraremos las capacidades de TensorFlow para: Clasificar imágenes, agrupación de datos (*data clustering*), regresiones, aprendizaje reforzado (*reinforcement learning*) y procesamiento natural del lenguaje (*natural language processing*).\n",
    "\n",
    "### ¿Cómo funciona TensorFlow?\n",
    "\n",
    "TensorFlow tiene dos componentes principales para operar: Grafos y Sesiones. Podemos definir un ***Grafo*** como un *'espacio'* en el que establecemos las operaciones computacionales que se van a realizar, no se realizan las operaciones en sí dentro del Grafo, así como tampoco se almacenan aquí. Si quieres una analogía imagina lo siguiente, piensa que estás en un salón de clases, te encuentras en la hora de matemáticas y te acaban de enseñar el teorema de pitágoras $c^2 = \\sqrt{a^2+b^2}$, imagina que el profesor anota esta ecuación en el tablero, no está reemplazando las variables por algún número, sólo está ahí escrita. Eso es un Grafo y aunque suene inútil es imprescindible en TensorFlow."
   ]
  },
  {
   "cell_type": "code",
   "execution_count": null,
   "metadata": {},
   "outputs": [],
   "source": []
  }
 ],
 "metadata": {
  "language_info": {
   "name": "python"
  }
 },
 "nbformat": 4,
 "nbformat_minor": 2
}
