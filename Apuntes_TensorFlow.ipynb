{
 "cells": [
  {
   "cell_type": "markdown",
   "metadata": {},
   "source": [
    "# Tensor Flow\n",
    "\n",
    "Estos son los apuntes del tutorial de FreeCodeCamp impartido por Tim Ruscica, youtuber en el área de tecnología y programación. Además se incluirán apuntes del curso en TensorFlow en la plataforma de FreeCodeCamp."
   ]
  },
  {
   "cell_type": "code",
   "execution_count": null,
   "metadata": {},
   "outputs": [],
   "source": [
    "# Tensor Flow"
   ]
  }
 ],
 "metadata": {
  "language_info": {
   "name": "python"
  }
 },
 "nbformat": 4,
 "nbformat_minor": 2
}
